{
 "cells": [
  {
   "cell_type": "code",
   "execution_count": null,
   "metadata": {
    "collapsed": true
   },
   "outputs": [],
   "source": [
    "from transformers import AuTokenizer, T5ForConditionalGeneration"
   ]
  },
  {
   "cell_type": "code",
   "execution_count": null,
   "outputs": [],
   "source": [
    "tokenizer_chat = AuTokenizer.from_pretrained(\n",
    "    \"outputs/vi-flan-t5-base/\",\n",
    "    local_files_only=True\n",
    ")\n",
    "model_chat = T5ForConditionalGeneration.from_pretrained(\n",
    "    \"outputs/vi-flan-t5-base/\",\n",
    "    local_files_only=True,\n",
    "    from_flax=True,\n",
    "    device_map=\"auto\"\n",
    ")"
   ],
   "metadata": {
    "collapsed": false
   }
  },
  {
   "cell_type": "code",
   "execution_count": null,
   "outputs": [],
   "source": [
    "def infer_chat(text):\n",
    "    encoded = {\n",
    "        k: v.to(model_chat.device)\n",
    "        for k, v in tokenizer_chat(text, return_tensors=\"pt\").items()\n",
    "    }\n",
    "    output = model_chat.generate(\n",
    "        **encoded,\n",
    "        max_new_tokens=512,\n",
    "        length_penalty=1.4,\n",
    "        num_beams=16,\n",
    "        no_repeat_ngram_size=2,\n",
    "        temperature=0.7,\n",
    "        top_k=150,\n",
    "        top_p=0.92,\n",
    "        repetition_penalty=2.1,\n",
    "        early_stopping=True\n",
    "    )[0]\n",
    "    decoded = tokenizer_chat.decode(output, skip_special_tokens=True)\n",
    "    return decoded"
   ],
   "metadata": {
    "collapsed": false
   }
  },
  {
   "cell_type": "code",
   "execution_count": null,
   "outputs": [],
   "source": [
    "text = \"Một công thức nấu món mỳ Ý\"\n",
    "output = infer_chat(text)\n",
    "output"
   ],
   "metadata": {
    "collapsed": false
   }
  }
 ],
 "metadata": {
  "kernelspec": {
   "display_name": "Python 3",
   "language": "python",
   "name": "python3"
  },
  "language_info": {
   "codemirror_mode": {
    "name": "ipython",
    "version": 2
   },
   "file_extension": ".py",
   "mimetype": "text/x-python",
   "name": "python",
   "nbconvert_exporter": "python",
   "pygments_lexer": "ipython2",
   "version": "2.7.6"
  }
 },
 "nbformat": 4,
 "nbformat_minor": 0
}
